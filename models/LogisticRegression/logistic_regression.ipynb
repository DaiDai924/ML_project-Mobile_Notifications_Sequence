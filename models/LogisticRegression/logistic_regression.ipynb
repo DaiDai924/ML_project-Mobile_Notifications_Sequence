{
 "metadata": {
  "language_info": {
   "codemirror_mode": {
    "name": "ipython",
    "version": 3
   },
   "file_extension": ".py",
   "mimetype": "text/x-python",
   "name": "python",
   "nbconvert_exporter": "python",
   "pygments_lexer": "ipython3",
   "version": "3.7.7-final"
  },
  "orig_nbformat": 2,
  "kernelspec": {
   "name": "python3",
   "display_name": "Python 3",
   "language": "python"
  }
 },
 "nbformat": 4,
 "nbformat_minor": 2,
 "cells": [
  {
   "cell_type": "code",
   "execution_count": 1,
   "metadata": {},
   "outputs": [
    {
     "output_type": "stream",
     "name": "stdout",
     "text": [
      "784\n     age  total_usetime social_usetime communication_usetime  \\\n0      4              1              1                     0   \n1      2              2              1                     0   \n2      2              4              3                     3   \n3      2              3              2                     2   \n4      2              2              1                     0   \n..   ...            ...            ...                   ...   \n779    2              4              3                     2   \n780    2              3              2                     2   \n781    2              1              1                     1   \n782    2              3              2                     1   \n783    2              3              1                     1   \n\n    entertainment_usetime news_usetime system_usetime notification_usetime  \\\n0                       0            1              0                    0   \n1                       1            0              0                    0   \n2                       3            1              1                    1   \n3                       0            1              0                    0   \n4                       2            0              0                    0   \n..                    ...          ...            ...                  ...   \n779                     2            1              0                    0   \n780                     0            1              0                    0   \n781                     1            0              0                    0   \n782                     0            0              0                    0   \n783                     4            0              0                    0   \n\n     view_order  gender_0  ...  department_3  department_4  department_5  \\\n0             1         1  ...             0             0             0   \n1             1         1  ...             0             1             0   \n2             0         0  ...             0             0             0   \n3             1         1  ...             0             1             0   \n4             1         1  ...             0             1             0   \n..          ...       ...  ...           ...           ...           ...   \n779          -1         0  ...             1             0             0   \n780           1         1  ...             0             1             0   \n781           0         1  ...             0             0             0   \n782           1         1  ...             0             0             0   \n783           1         0  ...             1             0             0   \n\n     department_6  department_7  department_8  scenario_0  scenario_1  \\\n0               1             0             0           0           1   \n1               0             0             0           0           1   \n2               0             0             0           1           0   \n3               0             0             0           1           0   \n4               0             0             0           0           0   \n..            ...           ...           ...         ...         ...   \n779             0             0             0           1           0   \n780             0             0             0           0           0   \n781             0             0             0           0           0   \n782             0             0             0           1           0   \n783             0             0             0           1           0   \n\n     scenario_2  scenario_3  \n0             0           0  \n1             0           0  \n2             0           0  \n3             0           0  \n4             0           1  \n..          ...         ...  \n779           0           0  \n780           1           0  \n781           1           0  \n782           0           0  \n783           0           0  \n\n[784 rows x 24 columns]\n"
     ]
    }
   ],
   "source": [
    "import pandas as pd\n",
    "import numpy as np\n",
    "from sklearn import preprocessing\n",
    "from sklearn.preprocessing import LabelEncoder\n",
    "from sklearn.preprocessing import OneHotEncoder\n",
    "\n",
    "notification_df = pd.read_csv('../../data/notification_sequence.csv', sep = ',')\n",
    "notification_df = pd.DataFrame(notification_df)\n",
    "\n",
    "# drop '?'\n",
    "notification_df = notification_df.replace('?', pd.NaT)    \n",
    "notification_df = notification_df.dropna(axis=0)\n",
    "\n",
    "# label encoding\n",
    "X_categorical_col = ['gender', 'department', 'scenario']\n",
    "y_categorical_col = ['tol_111111', 'tol_1122', 'tol_123', 'tol_222', 'tol_24', 'tol_15']\n",
    "\n",
    "X = notification_df.iloc[:, :-6]\n",
    "y = notification_df.iloc[:, -6:]\n",
    "new = {'view_order': []}\n",
    "for num, i in X.iterrows():\n",
    "    # print(i['total_usetime'])\n",
    "    if i['total_usetime'] == 0:\n",
    "        X.drop(index = [num], inplace = True)\n",
    "        y.drop(index = [num], inplace = True)\n",
    "    else:\n",
    "        tot = int(i['social_usetime']) + int(i['communication_usetime']) + int(i['entertainment_usetime']) + int(i['news_usetime']) + int(i['system_usetime']) + int(i['notification_usetime'])\n",
    "        if tot == 0:\n",
    "            X.drop(index = [num], inplace = True)\n",
    "            y.drop(index = [num], inplace = True)\n",
    "        else:\n",
    "            i['social_usetime'] = int(i['social_usetime'])/tot\n",
    "            i['communication_usetime'] = int(i['communication_usetime'])/tot\n",
    "            i['entertainment_usetime'] = int(i['entertainment_usetime'])/tot\n",
    "            i['news_usetime'] = int(i['news_usetime'])/tot\n",
    "            i['system_usetime'] = int(i['system_usetime'])/tot\n",
    "            i['notification_usetime'] = int(i['notification_usetime'])/tot\n",
    "            new['view_order'].append(1 if i['view_order_top'] == 1 else (0 if i['view_order_middle'] == 1 else -1))\n",
    "            \n",
    "print(len(new['view_order']))\n",
    "X.reset_index(drop=True, inplace=True)\n",
    "X = pd.concat([X, pd.DataFrame(new)], axis=1)\n",
    "X = X.drop(['view_order_top', 'view_order_middle', 'view_order_bottom'], axis=1)\n",
    "\n",
    "labelencoder = LabelEncoder()\n",
    "for i in X_categorical_col:\n",
    "    X[i] = labelencoder.fit_transform(X[i])\n",
    "\n",
    "le_name_mapping = []\n",
    "for i in y_categorical_col:\n",
    "    labelencoder.fit(y[i])\n",
    "    le_name_mapping.append(dict(zip(labelencoder.classes_, labelencoder.transform(labelencoder.classes_))))\n",
    "\n",
    "# handle X with categorical in 'one-hot encode'\n",
    "X = pd.get_dummies(X, columns = X_categorical_col)\n",
    "print(X)"
   ]
  },
  {
   "cell_type": "code",
   "execution_count": 2,
   "metadata": {},
   "outputs": [],
   "source": [
    "import matplotlib.pyplot as plt\n",
    "from sklearn.utils import shuffle\n",
    "from sklearn.model_selection import train_test_split\n",
    "from sklearn.model_selection import KFold\n",
    "from sklearn import metrics\n",
    "\n",
    "def plot_confusion_matrix(confusion_mat, class_names):\n",
    "    fig, ax = plt.subplots(figsize=(20, 20))\n",
    "    ax.matshow(confusion_mat, cmap=plt.cm.Greens, alpha=0.3)\n",
    "    for i in range(confusion_mat.shape[0]):\n",
    "        for j in range(confusion_mat.shape[1]):\n",
    "            ax.text(x=j, y=i, s=format(confusion_mat[i,j], '.4f'), va='center', ha='center')\n",
    "    plt.xticks(np.arange(len(class_names)), class_names)\n",
    "    plt.yticks(np.arange(len(class_names)), class_names)\n",
    "    plt.xlabel('Prediction')\n",
    "    plt.ylabel('Target')\n",
    "    plt.title('Confusion Matrix\\n')\n",
    "\n",
    "def holdout_func(X, y, mod):\n",
    "    X_train, X_test, y_train, y_test = train_test_split(X, y, test_size=0.3, shuffle=False)\n",
    "\n",
    "    mod.fit(X_train, y_train)\n",
    "    y_pred = mod.predict(X_test)\n",
    "        \n",
    "    print(\"Classification accuracy:\", metrics.accuracy_score(y_test, y_pred))\n",
    "    print(metrics.classification_report(y_test, y_pred))\n",
    "\n",
    "    confusion_mat = metrics.confusion_matrix(y_test, y_pred, labels=class_names)\n",
    "    plot_confusion_matrix(confusion_mat, class_names)\n",
    "\n",
    "\n",
    "def KFold_func(X, y, num_split, mod):\n",
    "    kf = KFold(n_splits=num_split, shuffle=False)\n",
    "\n",
    "    y_pred_sum = 0\n",
    "    confusion_mat_list = []\n",
    "    for train_index, test_index in kf.split(X):\n",
    "        X_train, X_test = X[train_index], X[test_index]\n",
    "        y_train, y_test = y[train_index], y[test_index]\n",
    "    \n",
    "        mod.fit(X_train, y_train)\n",
    "        y_pred = mod.predict(X_test)\n",
    "        y_pred_sum += metrics.accuracy_score(y_test, y_pred)\n",
    "        confusion_mat_list.append(metrics.confusion_matrix(y_test, y_pred, labels=class_names))\n",
    "        \n",
    "    print(\"Classification accuracy:\", y_pred_sum / kf.get_n_splits(kf))\n",
    "    print(metrics.classification_report(y_test, y_pred))\n",
    "\n",
    "    mean_confusion_mat = np.mean(confusion_mat_list, axis=0)\n",
    "    plot_confusion_matrix(mean_confusion_mat, class_names)"
   ]
  },
  {
   "cell_type": "code",
   "execution_count": 4,
   "metadata": {},
   "outputs": [
    {
     "output_type": "stream",
     "name": "stdout",
     "text": [
      "Classification accuracy: 0.0423728813559322\n              precision    recall  f1-score   support\n\n      censwy       0.00      0.00      0.00         2\n      censyw       0.00      0.00      0.00         1\n      cesnwy       0.00      0.00      0.00         2\n      cesnyw       0.00      0.00      0.00         3\n      cesynw       0.00      0.00      0.00         1\n      cewsyn       0.00      0.00      0.00         1\n      cnsewy       0.00      0.00      0.00         2\n      cnswey       0.00      0.00      0.00         6\n      cnswye       0.00      0.00      0.00         3\n      cnsywe       0.00      0.00      0.00         2\n      cnwsey       0.00      0.00      0.00         5\n      cnwsye       0.00      0.00      0.00         2\n      csenwy       0.04      0.11      0.05         9\n      csenyw       0.00      0.00      0.00         1\n      csewny       0.00      0.00      0.00         8\n      csewyn       0.00      0.00      0.00         7\n      cseynw       0.00      0.00      0.00         2\n      cseywn       0.00      0.00      0.00         2\n      csnewy       0.00      0.00      0.00         9\n      csnwey       0.00      0.00      0.00        10\n      csnwye       0.00      0.00      0.00         1\n      csnywe       0.00      0.00      0.00         4\n      csweny       0.00      0.00      0.00         4\n      cswney       0.00      0.00      0.00         3\n      cswnye       0.00      0.00      0.00         4\n      cswyne       0.00      0.00      0.00         3\n      csynew       0.00      0.00      0.00         1\n      csynwe       0.00      0.00      0.00         1\n      cwesyn       0.00      0.00      0.00         1\n      cwnesy       0.00      0.00      0.00         3\n      cwneys       0.00      0.00      0.00         1\n      cwnsey       0.00      0.00      0.00         3\n      cwnsye       0.00      0.00      0.00         1\n      cwnyse       0.00      0.00      0.00         1\n      cwseny       0.00      0.00      0.00         2\n      cwsney       0.00      0.00      0.00         2\n      cwsyne       0.00      0.00      0.00         1\n      cywnse       0.00      0.00      0.00         1\n      ecsnyw       0.00      0.00      0.00         1\n      ecswny       0.00      0.00      0.00         3\n      enscwy       0.00      0.00      0.00         1\n      escnwy       0.00      0.00      0.00         1\n      escnyw       0.00      0.00      0.00         1\n      escwny       0.00      0.00      0.00         3\n      escwyn       0.00      0.00      0.00         1\n      esycwn       0.00      0.00      0.00         1\n      nceswy       0.00      0.00      0.00         1\n      ncsewy       0.00      0.00      0.00         4\n      ncswey       0.05      0.56      0.09         9\n      ncswye       0.06      0.22      0.10         9\n      ncsyew       0.00      0.00      0.00         1\n      ncsywe       0.00      0.00      0.00         3\n      ncwsey       0.00      0.00      0.00         9\n      ncwsye       0.00      0.00      0.00         6\n      ncwyse       0.00      0.00      0.00         1\n      ncyswe       0.00      0.00      0.00         2\n      nscewy       0.00      0.00      0.00         3\n      nscwye       0.00      0.00      0.00         3\n      nwcsey       0.50      0.12      0.20         8\n      nwcsye       0.00      0.00      0.00         3\n      nwcyse       0.00      0.00      0.00         2\n      nwscey       0.00      0.00      0.00         2\n      nwscye       0.00      0.00      0.00         2\n      nwycse       0.00      0.00      0.00         1\n      nycwse       0.00      0.00      0.00         2\n      nyeswc       0.00      0.00      0.00         1\n      nyewsc       0.00      0.00      0.00         2\n      scenwy       0.00      0.00      0.00         1\n      scewny       0.00      0.00      0.00        11\n      scewyn       0.09      0.14      0.11         7\n      sceywn       0.00      0.00      0.00         1\n      scnewy       0.00      0.00      0.00         2\n      scnwye       0.00      0.00      0.00         2\n      scnywe       0.00      0.00      0.00         1\n      scynwe       0.00      0.00      0.00         1\n      swecyn       0.00      0.00      0.00         1\n      wcsney       0.00      0.00      0.00         2\n      wcsnye       0.00      0.00      0.00         1\n      wncsey       0.00      0.00      0.00         3\n      wnscey       0.00      0.00      0.00         1\n      wsceny       0.00      0.00      0.00         1\n\n    accuracy                           0.04       236\n   macro avg       0.01      0.01      0.01       236\nweighted avg       0.03      0.04      0.02       236\n\n"
     ]
    },
    {
     "output_type": "error",
     "ename": "KeyboardInterrupt",
     "evalue": "",
     "traceback": [
      "\u001b[1;31m---------------------------------------------------------------------------\u001b[0m",
      "\u001b[1;31mKeyboardInterrupt\u001b[0m                         Traceback (most recent call last)",
      "\u001b[1;32m<ipython-input-4-5232a1dc5288>\u001b[0m in \u001b[0;36m<module>\u001b[1;34m\u001b[0m\n\u001b[0;32m      4\u001b[0m \u001b[1;32mfor\u001b[0m \u001b[0mi\u001b[0m \u001b[1;32min\u001b[0m \u001b[0mrange\u001b[0m\u001b[1;33m(\u001b[0m\u001b[1;36m6\u001b[0m\u001b[1;33m)\u001b[0m\u001b[1;33m:\u001b[0m\u001b[1;33m\u001b[0m\u001b[1;33m\u001b[0m\u001b[0m\n\u001b[0;32m      5\u001b[0m     \u001b[0mclass_names\u001b[0m \u001b[1;33m=\u001b[0m \u001b[0mlist\u001b[0m\u001b[1;33m(\u001b[0m\u001b[0mle_name_mapping\u001b[0m\u001b[1;33m[\u001b[0m\u001b[0mi\u001b[0m\u001b[1;33m]\u001b[0m\u001b[1;33m.\u001b[0m\u001b[0mkeys\u001b[0m\u001b[1;33m(\u001b[0m\u001b[1;33m)\u001b[0m\u001b[1;33m)\u001b[0m\u001b[1;33m\u001b[0m\u001b[1;33m\u001b[0m\u001b[0m\n\u001b[1;32m----> 6\u001b[1;33m     \u001b[0mholdout_func\u001b[0m\u001b[1;33m(\u001b[0m\u001b[0mX\u001b[0m\u001b[1;33m,\u001b[0m \u001b[0my\u001b[0m\u001b[1;33m.\u001b[0m\u001b[0miloc\u001b[0m\u001b[1;33m[\u001b[0m\u001b[1;33m:\u001b[0m\u001b[1;33m,\u001b[0m\u001b[0mi\u001b[0m\u001b[1;33m]\u001b[0m\u001b[1;33m,\u001b[0m \u001b[0mclf\u001b[0m\u001b[1;33m)\u001b[0m\u001b[1;33m\u001b[0m\u001b[1;33m\u001b[0m\u001b[0m\n\u001b[0m\u001b[0;32m      7\u001b[0m     \u001b[1;31m#plt.show\u001b[0m\u001b[1;33m\u001b[0m\u001b[1;33m\u001b[0m\u001b[1;33m\u001b[0m\u001b[0m\n\u001b[0;32m      8\u001b[0m     \u001b[0mplt\u001b[0m\u001b[1;33m.\u001b[0m\u001b[0mplot\u001b[0m\u001b[1;33m(\u001b[0m\u001b[0mfigsize\u001b[0m\u001b[1;33m=\u001b[0m\u001b[1;33m(\u001b[0m\u001b[1;36m15\u001b[0m\u001b[1;33m,\u001b[0m\u001b[1;36m15\u001b[0m\u001b[1;33m)\u001b[0m\u001b[1;33m)\u001b[0m\u001b[1;33m\u001b[0m\u001b[1;33m\u001b[0m\u001b[0m\n",
      "\u001b[1;32m<ipython-input-2-b917c08f9368>\u001b[0m in \u001b[0;36mholdout_func\u001b[1;34m(X, y, mod)\u001b[0m\n\u001b[0;32m     27\u001b[0m \u001b[1;33m\u001b[0m\u001b[0m\n\u001b[0;32m     28\u001b[0m     \u001b[0mconfusion_mat\u001b[0m \u001b[1;33m=\u001b[0m \u001b[0mmetrics\u001b[0m\u001b[1;33m.\u001b[0m\u001b[0mconfusion_matrix\u001b[0m\u001b[1;33m(\u001b[0m\u001b[0my_test\u001b[0m\u001b[1;33m,\u001b[0m \u001b[0my_pred\u001b[0m\u001b[1;33m,\u001b[0m \u001b[0mlabels\u001b[0m\u001b[1;33m=\u001b[0m\u001b[0mclass_names\u001b[0m\u001b[1;33m)\u001b[0m\u001b[1;33m\u001b[0m\u001b[1;33m\u001b[0m\u001b[0m\n\u001b[1;32m---> 29\u001b[1;33m     \u001b[0mplot_confusion_matrix\u001b[0m\u001b[1;33m(\u001b[0m\u001b[0mconfusion_mat\u001b[0m\u001b[1;33m,\u001b[0m \u001b[0mclass_names\u001b[0m\u001b[1;33m)\u001b[0m\u001b[1;33m\u001b[0m\u001b[1;33m\u001b[0m\u001b[0m\n\u001b[0m\u001b[0;32m     30\u001b[0m \u001b[1;33m\u001b[0m\u001b[0m\n\u001b[0;32m     31\u001b[0m \u001b[1;33m\u001b[0m\u001b[0m\n",
      "\u001b[1;32m<ipython-input-2-b917c08f9368>\u001b[0m in \u001b[0;36mplot_confusion_matrix\u001b[1;34m(confusion_mat, class_names)\u001b[0m\n\u001b[0;32m     10\u001b[0m     \u001b[1;32mfor\u001b[0m \u001b[0mi\u001b[0m \u001b[1;32min\u001b[0m \u001b[0mrange\u001b[0m\u001b[1;33m(\u001b[0m\u001b[0mconfusion_mat\u001b[0m\u001b[1;33m.\u001b[0m\u001b[0mshape\u001b[0m\u001b[1;33m[\u001b[0m\u001b[1;36m0\u001b[0m\u001b[1;33m]\u001b[0m\u001b[1;33m)\u001b[0m\u001b[1;33m:\u001b[0m\u001b[1;33m\u001b[0m\u001b[1;33m\u001b[0m\u001b[0m\n\u001b[0;32m     11\u001b[0m         \u001b[1;32mfor\u001b[0m \u001b[0mj\u001b[0m \u001b[1;32min\u001b[0m \u001b[0mrange\u001b[0m\u001b[1;33m(\u001b[0m\u001b[0mconfusion_mat\u001b[0m\u001b[1;33m.\u001b[0m\u001b[0mshape\u001b[0m\u001b[1;33m[\u001b[0m\u001b[1;36m1\u001b[0m\u001b[1;33m]\u001b[0m\u001b[1;33m)\u001b[0m\u001b[1;33m:\u001b[0m\u001b[1;33m\u001b[0m\u001b[1;33m\u001b[0m\u001b[0m\n\u001b[1;32m---> 12\u001b[1;33m             \u001b[0max\u001b[0m\u001b[1;33m.\u001b[0m\u001b[0mtext\u001b[0m\u001b[1;33m(\u001b[0m\u001b[0mx\u001b[0m\u001b[1;33m=\u001b[0m\u001b[0mj\u001b[0m\u001b[1;33m,\u001b[0m \u001b[0my\u001b[0m\u001b[1;33m=\u001b[0m\u001b[0mi\u001b[0m\u001b[1;33m,\u001b[0m \u001b[0ms\u001b[0m\u001b[1;33m=\u001b[0m\u001b[0mformat\u001b[0m\u001b[1;33m(\u001b[0m\u001b[0mconfusion_mat\u001b[0m\u001b[1;33m[\u001b[0m\u001b[0mi\u001b[0m\u001b[1;33m,\u001b[0m\u001b[0mj\u001b[0m\u001b[1;33m]\u001b[0m\u001b[1;33m,\u001b[0m \u001b[1;34m'.4f'\u001b[0m\u001b[1;33m)\u001b[0m\u001b[1;33m,\u001b[0m \u001b[0mva\u001b[0m\u001b[1;33m=\u001b[0m\u001b[1;34m'center'\u001b[0m\u001b[1;33m,\u001b[0m \u001b[0mha\u001b[0m\u001b[1;33m=\u001b[0m\u001b[1;34m'center'\u001b[0m\u001b[1;33m)\u001b[0m\u001b[1;33m\u001b[0m\u001b[1;33m\u001b[0m\u001b[0m\n\u001b[0m\u001b[0;32m     13\u001b[0m     \u001b[0mplt\u001b[0m\u001b[1;33m.\u001b[0m\u001b[0mxticks\u001b[0m\u001b[1;33m(\u001b[0m\u001b[0mnp\u001b[0m\u001b[1;33m.\u001b[0m\u001b[0marange\u001b[0m\u001b[1;33m(\u001b[0m\u001b[0mlen\u001b[0m\u001b[1;33m(\u001b[0m\u001b[0mclass_names\u001b[0m\u001b[1;33m)\u001b[0m\u001b[1;33m)\u001b[0m\u001b[1;33m,\u001b[0m \u001b[0mclass_names\u001b[0m\u001b[1;33m)\u001b[0m\u001b[1;33m\u001b[0m\u001b[1;33m\u001b[0m\u001b[0m\n\u001b[0;32m     14\u001b[0m     \u001b[0mplt\u001b[0m\u001b[1;33m.\u001b[0m\u001b[0myticks\u001b[0m\u001b[1;33m(\u001b[0m\u001b[0mnp\u001b[0m\u001b[1;33m.\u001b[0m\u001b[0marange\u001b[0m\u001b[1;33m(\u001b[0m\u001b[0mlen\u001b[0m\u001b[1;33m(\u001b[0m\u001b[0mclass_names\u001b[0m\u001b[1;33m)\u001b[0m\u001b[1;33m)\u001b[0m\u001b[1;33m,\u001b[0m \u001b[0mclass_names\u001b[0m\u001b[1;33m)\u001b[0m\u001b[1;33m\u001b[0m\u001b[1;33m\u001b[0m\u001b[0m\n",
      "\u001b[1;32m~\\anaconda3\\lib\\site-packages\\matplotlib\\axes\\_axes.py\u001b[0m in \u001b[0;36mtext\u001b[1;34m(self, x, y, s, fontdict, **kwargs)\u001b[0m\n\u001b[0;32m    763\u001b[0m             \u001b[1;33m**\u001b[0m\u001b[0mkwargs\u001b[0m\u001b[1;33m,\u001b[0m\u001b[1;33m\u001b[0m\u001b[1;33m\u001b[0m\u001b[0m\n\u001b[0;32m    764\u001b[0m         }\n\u001b[1;32m--> 765\u001b[1;33m         \u001b[0mt\u001b[0m \u001b[1;33m=\u001b[0m \u001b[0mmtext\u001b[0m\u001b[1;33m.\u001b[0m\u001b[0mText\u001b[0m\u001b[1;33m(\u001b[0m\u001b[0mx\u001b[0m\u001b[1;33m,\u001b[0m \u001b[0my\u001b[0m\u001b[1;33m,\u001b[0m \u001b[0mtext\u001b[0m\u001b[1;33m=\u001b[0m\u001b[0ms\u001b[0m\u001b[1;33m,\u001b[0m \u001b[1;33m**\u001b[0m\u001b[0meffective_kwargs\u001b[0m\u001b[1;33m)\u001b[0m\u001b[1;33m\u001b[0m\u001b[1;33m\u001b[0m\u001b[0m\n\u001b[0m\u001b[0;32m    766\u001b[0m         \u001b[0mt\u001b[0m\u001b[1;33m.\u001b[0m\u001b[0mset_clip_path\u001b[0m\u001b[1;33m(\u001b[0m\u001b[0mself\u001b[0m\u001b[1;33m.\u001b[0m\u001b[0mpatch\u001b[0m\u001b[1;33m)\u001b[0m\u001b[1;33m\u001b[0m\u001b[1;33m\u001b[0m\u001b[0m\n\u001b[0;32m    767\u001b[0m         \u001b[0mself\u001b[0m\u001b[1;33m.\u001b[0m\u001b[0m_add_text\u001b[0m\u001b[1;33m(\u001b[0m\u001b[0mt\u001b[0m\u001b[1;33m)\u001b[0m\u001b[1;33m\u001b[0m\u001b[1;33m\u001b[0m\u001b[0m\n",
      "\u001b[1;32m~\\anaconda3\\lib\\site-packages\\matplotlib\\text.py\u001b[0m in \u001b[0;36m__init__\u001b[1;34m(self, x, y, text, color, verticalalignment, horizontalalignment, multialignment, fontproperties, rotation, linespacing, rotation_mode, usetex, wrap, **kwargs)\u001b[0m\n\u001b[0;32m    164\u001b[0m         \u001b[0mself\u001b[0m\u001b[1;33m.\u001b[0m\u001b[0m_linespacing\u001b[0m \u001b[1;33m=\u001b[0m \u001b[0mlinespacing\u001b[0m\u001b[1;33m\u001b[0m\u001b[1;33m\u001b[0m\u001b[0m\n\u001b[0;32m    165\u001b[0m         \u001b[0mself\u001b[0m\u001b[1;33m.\u001b[0m\u001b[0mset_rotation_mode\u001b[0m\u001b[1;33m(\u001b[0m\u001b[0mrotation_mode\u001b[0m\u001b[1;33m)\u001b[0m\u001b[1;33m\u001b[0m\u001b[1;33m\u001b[0m\u001b[0m\n\u001b[1;32m--> 166\u001b[1;33m         \u001b[0mself\u001b[0m\u001b[1;33m.\u001b[0m\u001b[0mupdate\u001b[0m\u001b[1;33m(\u001b[0m\u001b[0mkwargs\u001b[0m\u001b[1;33m)\u001b[0m\u001b[1;33m\u001b[0m\u001b[1;33m\u001b[0m\u001b[0m\n\u001b[0m\u001b[0;32m    167\u001b[0m \u001b[1;33m\u001b[0m\u001b[0m\n\u001b[0;32m    168\u001b[0m     \u001b[1;32mdef\u001b[0m \u001b[0mupdate\u001b[0m\u001b[1;33m(\u001b[0m\u001b[0mself\u001b[0m\u001b[1;33m,\u001b[0m \u001b[0mkwargs\u001b[0m\u001b[1;33m)\u001b[0m\u001b[1;33m:\u001b[0m\u001b[1;33m\u001b[0m\u001b[1;33m\u001b[0m\u001b[0m\n",
      "\u001b[1;32m~\\anaconda3\\lib\\site-packages\\matplotlib\\text.py\u001b[0m in \u001b[0;36mupdate\u001b[1;34m(self, kwargs)\u001b[0m\n\u001b[0;32m    177\u001b[0m         \u001b[1;31m# Update bbox last, as it depends on font properties.\u001b[0m\u001b[1;33m\u001b[0m\u001b[1;33m\u001b[0m\u001b[1;33m\u001b[0m\u001b[0m\n\u001b[0;32m    178\u001b[0m         \u001b[0mbbox\u001b[0m \u001b[1;33m=\u001b[0m \u001b[0mkwargs\u001b[0m\u001b[1;33m.\u001b[0m\u001b[0mpop\u001b[0m\u001b[1;33m(\u001b[0m\u001b[1;34m\"bbox\"\u001b[0m\u001b[1;33m,\u001b[0m \u001b[0msentinel\u001b[0m\u001b[1;33m)\u001b[0m\u001b[1;33m\u001b[0m\u001b[1;33m\u001b[0m\u001b[0m\n\u001b[1;32m--> 179\u001b[1;33m         \u001b[0msuper\u001b[0m\u001b[1;33m(\u001b[0m\u001b[1;33m)\u001b[0m\u001b[1;33m.\u001b[0m\u001b[0mupdate\u001b[0m\u001b[1;33m(\u001b[0m\u001b[0mkwargs\u001b[0m\u001b[1;33m)\u001b[0m\u001b[1;33m\u001b[0m\u001b[1;33m\u001b[0m\u001b[0m\n\u001b[0m\u001b[0;32m    180\u001b[0m         \u001b[1;32mif\u001b[0m \u001b[0mbbox\u001b[0m \u001b[1;32mis\u001b[0m \u001b[1;32mnot\u001b[0m \u001b[0msentinel\u001b[0m\u001b[1;33m:\u001b[0m\u001b[1;33m\u001b[0m\u001b[1;33m\u001b[0m\u001b[0m\n\u001b[0;32m    181\u001b[0m             \u001b[0mself\u001b[0m\u001b[1;33m.\u001b[0m\u001b[0mset_bbox\u001b[0m\u001b[1;33m(\u001b[0m\u001b[0mbbox\u001b[0m\u001b[1;33m)\u001b[0m\u001b[1;33m\u001b[0m\u001b[1;33m\u001b[0m\u001b[0m\n",
      "\u001b[1;32m~\\anaconda3\\lib\\site-packages\\matplotlib\\artist.py\u001b[0m in \u001b[0;36mupdate\u001b[1;34m(self, props)\u001b[0m\n\u001b[0;32m    996\u001b[0m                         raise AttributeError(f\"{type(self).__name__!r} object \"\n\u001b[0;32m    997\u001b[0m                                              f\"has no property {k!r}\")\n\u001b[1;32m--> 998\u001b[1;33m                     \u001b[0mret\u001b[0m\u001b[1;33m.\u001b[0m\u001b[0mappend\u001b[0m\u001b[1;33m(\u001b[0m\u001b[0mfunc\u001b[0m\u001b[1;33m(\u001b[0m\u001b[0mv\u001b[0m\u001b[1;33m)\u001b[0m\u001b[1;33m)\u001b[0m\u001b[1;33m\u001b[0m\u001b[1;33m\u001b[0m\u001b[0m\n\u001b[0m\u001b[0;32m    999\u001b[0m         \u001b[1;32mif\u001b[0m \u001b[0mret\u001b[0m\u001b[1;33m:\u001b[0m\u001b[1;33m\u001b[0m\u001b[1;33m\u001b[0m\u001b[0m\n\u001b[0;32m   1000\u001b[0m             \u001b[0mself\u001b[0m\u001b[1;33m.\u001b[0m\u001b[0mpchanged\u001b[0m\u001b[1;33m(\u001b[0m\u001b[1;33m)\u001b[0m\u001b[1;33m\u001b[0m\u001b[1;33m\u001b[0m\u001b[0m\n",
      "\u001b[1;32m~\\anaconda3\\lib\\site-packages\\matplotlib\\cbook\\__init__.py\u001b[0m in \u001b[0;36mmethod\u001b[1;34m(self, *args, **kwargs)\u001b[0m\n\u001b[0;32m   1874\u001b[0m         \u001b[1;33m@\u001b[0m\u001b[0mfunctools\u001b[0m\u001b[1;33m.\u001b[0m\u001b[0mwraps\u001b[0m\u001b[1;33m(\u001b[0m\u001b[0mgetattr\u001b[0m\u001b[1;33m(\u001b[0m\u001b[0mcls\u001b[0m\u001b[1;33m,\u001b[0m \u001b[0mname\u001b[0m\u001b[1;33m)\u001b[0m\u001b[1;33m)\u001b[0m\u001b[1;33m\u001b[0m\u001b[1;33m\u001b[0m\u001b[0m\n\u001b[0;32m   1875\u001b[0m         \u001b[1;32mdef\u001b[0m \u001b[0mmethod\u001b[0m\u001b[1;33m(\u001b[0m\u001b[0mself\u001b[0m\u001b[1;33m,\u001b[0m \u001b[1;33m*\u001b[0m\u001b[0margs\u001b[0m\u001b[1;33m,\u001b[0m \u001b[1;33m**\u001b[0m\u001b[0mkwargs\u001b[0m\u001b[1;33m)\u001b[0m\u001b[1;33m:\u001b[0m\u001b[1;33m\u001b[0m\u001b[1;33m\u001b[0m\u001b[0m\n\u001b[1;32m-> 1876\u001b[1;33m             \u001b[1;32mreturn\u001b[0m \u001b[0mgetattr\u001b[0m\u001b[1;33m(\u001b[0m\u001b[0mself\u001b[0m\u001b[1;33m,\u001b[0m \u001b[0mname\u001b[0m\u001b[1;33m)\u001b[0m\u001b[1;33m(\u001b[0m\u001b[1;33m*\u001b[0m\u001b[0margs\u001b[0m\u001b[1;33m,\u001b[0m \u001b[1;33m**\u001b[0m\u001b[0mkwargs\u001b[0m\u001b[1;33m)\u001b[0m\u001b[1;33m\u001b[0m\u001b[1;33m\u001b[0m\u001b[0m\n\u001b[0m\u001b[0;32m   1877\u001b[0m         \u001b[1;32mreturn\u001b[0m \u001b[0mmethod\u001b[0m\u001b[1;33m\u001b[0m\u001b[1;33m\u001b[0m\u001b[0m\n\u001b[0;32m   1878\u001b[0m \u001b[1;33m\u001b[0m\u001b[0m\n",
      "\u001b[1;32m~\\anaconda3\\lib\\site-packages\\matplotlib\\text.py\u001b[0m in \u001b[0;36mset_verticalalignment\u001b[1;34m(self, align)\u001b[0m\n\u001b[0;32m   1145\u001b[0m         cbook._check_in_list(\n\u001b[0;32m   1146\u001b[0m             \u001b[1;33m[\u001b[0m\u001b[1;34m'top'\u001b[0m\u001b[1;33m,\u001b[0m \u001b[1;34m'bottom'\u001b[0m\u001b[1;33m,\u001b[0m \u001b[1;34m'center'\u001b[0m\u001b[1;33m,\u001b[0m \u001b[1;34m'baseline'\u001b[0m\u001b[1;33m,\u001b[0m \u001b[1;34m'center_baseline'\u001b[0m\u001b[1;33m]\u001b[0m\u001b[1;33m,\u001b[0m\u001b[1;33m\u001b[0m\u001b[1;33m\u001b[0m\u001b[0m\n\u001b[1;32m-> 1147\u001b[1;33m             align=align)\n\u001b[0m\u001b[0;32m   1148\u001b[0m         \u001b[0mself\u001b[0m\u001b[1;33m.\u001b[0m\u001b[0m_verticalalignment\u001b[0m \u001b[1;33m=\u001b[0m \u001b[0malign\u001b[0m\u001b[1;33m\u001b[0m\u001b[1;33m\u001b[0m\u001b[0m\n\u001b[0;32m   1149\u001b[0m         \u001b[0mself\u001b[0m\u001b[1;33m.\u001b[0m\u001b[0mstale\u001b[0m \u001b[1;33m=\u001b[0m \u001b[1;32mTrue\u001b[0m\u001b[1;33m\u001b[0m\u001b[1;33m\u001b[0m\u001b[0m\n",
      "\u001b[1;32m~\\anaconda3\\lib\\site-packages\\matplotlib\\cbook\\__init__.py\u001b[0m in \u001b[0;36m_check_in_list\u001b[1;34m(_values, **kwargs)\u001b[0m\n\u001b[0;32m   2262\u001b[0m     \"\"\"\n\u001b[0;32m   2263\u001b[0m     \u001b[0mvalues\u001b[0m \u001b[1;33m=\u001b[0m \u001b[0m_values\u001b[0m\u001b[1;33m\u001b[0m\u001b[1;33m\u001b[0m\u001b[0m\n\u001b[1;32m-> 2264\u001b[1;33m     \u001b[1;32mfor\u001b[0m \u001b[0mk\u001b[0m\u001b[1;33m,\u001b[0m \u001b[0mv\u001b[0m \u001b[1;32min\u001b[0m \u001b[0mkwargs\u001b[0m\u001b[1;33m.\u001b[0m\u001b[0mitems\u001b[0m\u001b[1;33m(\u001b[0m\u001b[1;33m)\u001b[0m\u001b[1;33m:\u001b[0m\u001b[1;33m\u001b[0m\u001b[1;33m\u001b[0m\u001b[0m\n\u001b[0m\u001b[0;32m   2265\u001b[0m         \u001b[1;32mif\u001b[0m \u001b[0mv\u001b[0m \u001b[1;32mnot\u001b[0m \u001b[1;32min\u001b[0m \u001b[0mvalues\u001b[0m\u001b[1;33m:\u001b[0m\u001b[1;33m\u001b[0m\u001b[1;33m\u001b[0m\u001b[0m\n\u001b[0;32m   2266\u001b[0m             raise ValueError(\n",
      "\u001b[1;31mKeyboardInterrupt\u001b[0m: "
     ]
    }
   ],
   "source": [
    "\n",
    "X = preprocessing.normalize(X)\n",
    "from sklearn.linear_model import LogisticRegression\n",
    "clf = LogisticRegression(random_state=666)\n",
    "for i in range(6):\n",
    "    class_names = list(le_name_mapping[i].keys())\n",
    "    holdout_func(X, y.iloc[:,i], clf)\n",
    "    #plt.show\n",
    "    plt.plot(figsize=(15,15))\n",
    "    plt.savefig(str(i))\n",
    "\n"
   ]
  },
  {
   "cell_type": "code",
   "execution_count": null,
   "metadata": {},
   "outputs": [],
   "source": []
  }
 ]
}