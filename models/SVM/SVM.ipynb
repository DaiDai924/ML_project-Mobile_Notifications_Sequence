{
 "metadata": {
  "language_info": {
   "codemirror_mode": {
    "name": "ipython",
    "version": 3
   },
   "file_extension": ".py",
   "mimetype": "text/x-python",
   "name": "python",
   "nbconvert_exporter": "python",
   "pygments_lexer": "ipython3",
   "version": "3.8.5-final"
  },
  "orig_nbformat": 2,
  "kernelspec": {
   "name": "python3",
   "display_name": "Python 3",
   "language": "python"
  }
 },
 "nbformat": 4,
 "nbformat_minor": 2,
 "cells": [
  {
   "source": [
    "# 1. Data input"
   ],
   "cell_type": "markdown",
   "metadata": {}
  },
  {
   "cell_type": "code",
   "execution_count": 44,
   "metadata": {
    "tags": []
   },
   "outputs": [],
   "source": [
    "import csv\n",
    "\n",
    "questionaire_input = []\n",
    "\n",
    "# read statistical.csv\n",
    "with open('statistical.csv',encoding = 'utf-8',newline = '') as csvfile:\n",
    "     reader = csv.reader(csvfile,delimiter = ',')\n",
    "     for row in reader:\n",
    "        questionaire_input.append(row)"
   ]
  },
  {
   "source": [
    "# 2. Data preprocessing"
   ],
   "cell_type": "markdown",
   "metadata": {}
  },
  {
   "cell_type": "code",
   "execution_count": 45,
   "metadata": {
    "tags": []
   },
   "outputs": [
    {
     "output_type": "stream",
     "name": "stdout",
     "text": [
      "one hot encoding dictionary\n\ngender   {'女': 0, '男': 1}\nage   {'16～18歲': 0, '22～28歲': 1, '19～22歲': 2, '29歲以上': 3, '15歲以下': 4}\ndepartment   {'ee': 0, 'ed': 1, 'lb': 2, 'bi': 3, 'oe': 4, 'sc': 5, 'cs': 6, 'mg': 7, 'ot': 8}\ntotal_usetime   {'三至四小時': 0, '五小時以上': 1, '二至三小時': 2, '一小時以下': 3, '一至二小時': 4, '一至兩小時': 5}\nsocial_usetime   {'半至一小時': 0, '半小時以下': 1, '二至三小時': 2, '一至二小時': 3, '三小時以上': 4, '': 5}\ncommunication_usetime   {'半至一小時': 0, '三小時以上': 1, '一至二小時': 2, '': 3, '二至三小時': 4, '半小時以下': 5}\nentertainment_usetime   {'半至一小時': 0, '一至二小時': 1, '半小時以下': 2, '二至三小時': 3, '三小時以上': 4, '': 5}\nnews_usetime   {'半小時以下': 0, '半至一小時': 1, '': 2, '一至二小時': 3, '三小時以上': 4}\nsystem_usetime   {'半小時以下': 0, '': 1, '半至一小時': 2, '一至二小時': 3}\nnotification_usetime   {'半小時以下': 0, '半至一小時': 1, '': 2, '一至二小時': 3, '二至三小時': 4}\nview_order_top   {'最先看': 0, '最後看': 1, '中': 2}\nview_order_middle   {'中': 0, '最後看': 1, '最先看': 2}\nview_order_bottom   {'最後看': 0, '中': 1, '最先看': 2}\nscenario   {'working': 0, 'resting': 1, 'commuting': 2, 'wakingup': 3}\n"
     ]
    }
   ],
   "source": [
    "# use one-hot encoding to transform the string to number in each feature\n",
    "\n",
    "# make dictionary for encoding(not include tolerance label)\n",
    "feature_dict = {}\n",
    "for i in range(0,14):\n",
    "    feature_dict[questionaire_input[0][i]] = {}\n",
    "\n",
    "for i in range(1,len(questionaire_input)):\n",
    "    for j in range(0,14):\n",
    "        feature_now = questionaire_input[0][j] # the feature of current element\n",
    "        if not isinstance(questionaire_input[i][j],int): # just used for test\n",
    "            if questionaire_input[i][j] not in feature_dict[feature_now]:\n",
    "        \n",
    "                # use difference number to identify each value\n",
    "                feature_dict[feature_now][questionaire_input[i][j]] = len(feature_dict[feature_now]) \n",
    "                questionaire_input[i][j] = feature_dict[feature_now][questionaire_input[i][j]] # change the value type of feature from str to int\n",
    "            else:\n",
    "                questionaire_input[i][j] = feature_dict[feature_now][questionaire_input[i][j]]\n",
    "\n",
    "# list the dictionary of one-hot encoding below\n",
    "print(\"one hot encoding dictionary\\n\")\n",
    "for key in feature_dict:\n",
    "    print(key,\" \",feature_dict[key])\n"
   ]
  },
  {
   "cell_type": "code",
   "execution_count": 47,
   "metadata": {},
   "outputs": [],
   "source": [
    "from sklearn import svm\n",
    "\n",
    "# try 4 different SVM model to test the difference\n",
    "svm_dict = {'linear' : svm.SVC(kernel='linear'),\n",
    "            'rbf' : svm.SVC(kernel='rbf'),\n",
    "            'poly' : svm.SVC(kernel='poly'),\n",
    "            'sigmoid': svm.SVC(kernel='sigmoid')}\n",
    "\n",
    "# accuracy for tolerance [1] [2] [3] [4] [5] [6]\n",
    "accuracy_111111"
   ]
  }
 ]
}