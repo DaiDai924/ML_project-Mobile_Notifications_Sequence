{
 "metadata": {
  "language_info": {
   "codemirror_mode": {
    "name": "ipython",
    "version": 3
   },
   "file_extension": ".py",
   "mimetype": "text/x-python",
   "name": "python",
   "nbconvert_exporter": "python",
   "pygments_lexer": "ipython3",
   "version": "3.6.4-final"
  },
  "orig_nbformat": 2,
  "kernelspec": {
   "name": "python3",
   "display_name": "Python 3",
   "language": "python"
  }
 },
 "nbformat": 4,
 "nbformat_minor": 2,
 "cells": [
  {
   "cell_type": "code",
   "execution_count": 13,
   "metadata": {},
   "outputs": [],
   "source": [
    "import numpy as np\n",
    "import pandas as pd\n",
    "from sklearn.metrics import accuracy_score\n",
    "from sklearn.model_selection import train_test_split\n",
    "from sklearn.ensemble import RandomForestClassifier"
   ]
  },
  {
   "cell_type": "code",
   "execution_count": 14,
   "metadata": {},
   "outputs": [],
   "source": [
    "csv = pd.read_csv('../../data/notification_sequence.csv', sep = ',')"
   ]
  },
  {
   "cell_type": "code",
   "execution_count": 16,
   "metadata": {},
   "outputs": [],
   "source": [
    "new_csv = {\n",
    "    'gender': [],\n",
    "    'age': [],\n",
    "    'department': [],\n",
    "    'scenario': [],\n",
    "    'view_order': [],\n",
    "    'total': [],\n",
    "    'social': [],\n",
    "    'communication': [],\n",
    "    'entertainment': [],\n",
    "    'news': [],\n",
    "    'system': [],\n",
    "    'notification': []\n",
    "}\n",
    "Y_111111 = []\n",
    "Y_1122 = []\n",
    "Y_123 = []\n",
    "Y_222 = []\n",
    "Y_24 = []\n",
    "Y_15 = []\n",
    "\n",
    "for idx, row in csv.iterrows():\n",
    "    if row['social_usetime'] == '?':\n",
    "        continue\n",
    "    tot = int(row['social_usetime']) + int(row['communication_usetime']) + int(row['entertainment_usetime']) + int(row['news_usetime']) + int(row['system_usetime']) + int(row['notification_usetime'])\n",
    "    if tot == 0:\n",
    "        continue\n",
    "    new_csv['gender'].append(row['gender'])\n",
    "    new_csv['age'].append(row['age'])\n",
    "    new_csv['department'].append(row['department'])\n",
    "    new_csv['scenario'].append(row['scenario'])\n",
    "    new_csv['view_order'].append(1 if row['view_order_top'] == 1 else (0 if row['view_order_middle'] == 1 else -1))\n",
    "    new_csv['total'].append(row['total_usetime'])\n",
    "    new_csv['social'].append(int(row['social_usetime']) / tot)\n",
    "    new_csv['communication'].append(int(row['communication_usetime']) / tot)\n",
    "    new_csv['entertainment'].append(int(row['entertainment_usetime']) / tot)\n",
    "    new_csv['news'].append(int(row['news_usetime']) / tot)\n",
    "    new_csv['system'].append(int(row['system_usetime']) / tot)\n",
    "    new_csv['notification'].append(int(row['notification_usetime']) / tot)\n",
    "    Y_111111.append(row['tol_111111'])\n",
    "    Y_1122.append(row['tol_1122'])\n",
    "    Y_123.append(row['tol_123'])\n",
    "    Y_222.append(row['tol_222'])\n",
    "    Y_24.append(row['tol_24'])\n",
    "    Y_15.append(row['tol_15'])\n",
    "\n",
    "new_csv = pd.get_dummies(pd.DataFrame(new_csv))\n",
    "X = np.array(new_csv.values)"
   ]
  },
  {
   "cell_type": "code",
   "execution_count": 17,
   "metadata": {},
   "outputs": [
    {
     "output_type": "stream",
     "name": "stdout",
     "text": [
      "Random Forest Tolerance-111111 Accuracy=14.093%\n",
      "Random Forest Tolerance-1122 Accuracy=20.418%\n",
      "Random Forest Tolerance-123 Accuracy=27.397%\n",
      "Random Forest Tolerance-222 Accuracy=25.038%\n",
      "Random Forest Tolerance-24 Accuracy=48.506%\n",
      "Random Forest Tolerance-15 Accuracy=55.852%\n"
     ]
    }
   ],
   "source": [
    "for tol, tol_name in [(Y_111111, '111111'), (Y_1122, '1122'), (Y_123, '123'), (Y_222, '222'), (Y_24, '24'), (Y_15, '15')]:\n",
    "    accu = []\n",
    "    for i in range(100):\n",
    "        X_train, X_test, Y_train, Y_test = train_test_split(X, tol, train_size=0.7)\n",
    "\n",
    "        _mean = np.mean(X_train, axis=0)\n",
    "        _std = np.std(X_train, axis=0)\n",
    "        _scale = np.full(X_train.shape[1], 1.0)\n",
    "        _scale[20:24] *= 0.25\n",
    "        _scale[3:6] *= 2.85\n",
    "\n",
    "        X_train -= _mean\n",
    "        X_train /= _std\n",
    "        X_train *= _scale\n",
    "        X_test -= _mean\n",
    "        X_test /= _std\n",
    "        X_test *= _scale\n",
    "\n",
    "        rand_forest = RandomForestClassifier(n_estimators=15, max_depth=8, min_samples_leaf=5)\n",
    "        rand_forest.fit(X_train, Y_train)\n",
    "        Y_pred = rand_forest.predict(X_test)\n",
    "        accu.append(accuracy_score(Y_test, Y_pred))\n",
    "    print('Random Forest Tolerance-%s Accuracy=%.3f%%' % (tol_name, np.mean(accu) * 100))"
   ]
  }
 ]
}