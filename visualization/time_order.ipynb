{
 "metadata": {
  "language_info": {
   "codemirror_mode": {
    "name": "ipython",
    "version": 3
   },
   "file_extension": ".py",
   "mimetype": "text/x-python",
   "name": "python",
   "nbconvert_exporter": "python",
   "pygments_lexer": "ipython3",
   "version": "3.6.4-final"
  },
  "orig_nbformat": 2,
  "kernelspec": {
   "name": "python3",
   "display_name": "Python 3",
   "language": "python"
  }
 },
 "nbformat": 4,
 "nbformat_minor": 2,
 "cells": [
  {
   "cell_type": "code",
   "execution_count": 1,
   "metadata": {},
   "outputs": [],
   "source": [
    "import pandas as pd\n",
    "import numpy as np\n",
    "from sklearn import preprocessing\n",
    "from sklearn.preprocessing import LabelEncoder\n",
    "from sklearn.preprocessing import OneHotEncoder\n",
    "\n",
    "notification_df = pd.read_csv('../data/notification_sequence.csv', sep = ',')\n",
    "notification_df = pd.DataFrame(notification_df)\n",
    "\n",
    "# drop '?'\n",
    "notification_df = notification_df.replace('?', pd.NaT)    \n",
    "notification_df = notification_df.dropna(axis=0)"
   ]
  },
  {
   "cell_type": "code",
   "execution_count": 2,
   "metadata": {},
   "outputs": [],
   "source": [
    "# label encoding\n",
    "X_categorical_col = ['gender', 'department', 'scenario']\n",
    "y_categorical_col = ['tol_111111', 'tol_1122', 'tol_123', 'tol_222', 'tol_24', 'tol_15']\n",
    "\n",
    "X = notification_df.iloc[:, :-6]\n",
    "y = notification_df.iloc[:, -6:]\n",
    "\n",
    "labelencoder = LabelEncoder()\n",
    "for i in X_categorical_col:\n",
    "    X[i] = labelencoder.fit_transform(X[i])\n",
    "\n",
    "le_name_mapping = []\n",
    "for i in y_categorical_col:\n",
    "    labelencoder.fit(y[i])\n",
    "    le_name_mapping.append(dict(zip(labelencoder.classes_, labelencoder.transform(labelencoder.classes_))))\n",
    "\n",
    "# handle X with categorical in 'one-hot encode'\n",
    "X = pd.get_dummies(X, columns = X_categorical_col)"
   ]
  },
  {
   "cell_type": "code",
   "execution_count": 3,
   "metadata": {},
   "outputs": [],
   "source": [
    "X_ = []\n",
    "y_ = []\n",
    "\n",
    "X_social_usetime = np.array(X['social_usetime'])\n",
    "X_total_usetime = np.array(X['total_usetime'])\n",
    "y_social_order = np.array(y['tol_111111'])\n",
    "#print(y_social_order)\n",
    "\n",
    "for i in range(len(X)):\n",
    "    if ((int(X_social_usetime[i]) + 1) / (int(X_total_usetime[i]) + 1)) <= 1:\n",
    "        X_.append( (int(X_social_usetime[i]) + 1) / (int(X_total_usetime[i]) + 1) )\n",
    "        y_.append(y_social_order[i].find('s'))"
   ]
  },
  {
   "cell_type": "code",
   "execution_count": 4,
   "metadata": {},
   "outputs": [
    {
     "output_type": "execute_result",
     "data": {
      "text/plain": [
       "Text(0,0.5,'social_order')"
      ]
     },
     "metadata": {},
     "execution_count": 4
    }
   ],
   "source": [
    "import matplotlib.pyplot as plt\n",
    "from matplotlib import colors\n",
    "\n",
    "plt.figure(figsize=(12, 8))\n",
    "s = [n*n*n*n/200000000 for n in range(len(X_))]\n",
    "plt.scatter(X_, y_, s = s)\n",
    "plt.xlabel('social_usetime / total_usetime', fontsize=15)\n",
    "plt.ylabel('social_order', fontsize=15)"
   ]
  },
  {
   "cell_type": "code",
   "execution_count": null,
   "metadata": {},
   "outputs": [],
   "source": [
    "import seaborn as sns\n",
    "\n",
    "y_123['first'] = y['tol_123'].map(lambda x: x[:1])\n",
    "y_123['second'] = y['tol_123'].map(lambda x: x[1:3])\n",
    "y_123['last'] = y['tol_123'].map(lambda x: x[3:])\n",
    "\n",
    "print(y_123)\n",
    "\n",
    "x = X['total_usetime']\n",
    "fig, ax = plt.subplots(figsize=(15,15))\n",
    "ax = sns.heatmap(,annot=True,cmap='coolwarm',fmt='d')\n"
   ]
  }
 ]
}